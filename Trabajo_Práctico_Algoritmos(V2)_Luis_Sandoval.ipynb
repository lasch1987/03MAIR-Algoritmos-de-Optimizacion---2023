{
  "nbformat": 4,
  "nbformat_minor": 0,
  "metadata": {
    "colab": {
      "provenance": [],
      "include_colab_link": true
    },
    "kernelspec": {
      "name": "python3",
      "display_name": "Python 3"
    }
  },
  "cells": [
    {
      "cell_type": "markdown",
      "metadata": {
        "id": "view-in-github",
        "colab_type": "text"
      },
      "source": [
        "<a href=\"https://colab.research.google.com/github/lasch1987/03MAIR-Algoritmos-de-Optimizacion---2023/blob/main/Trabajo_Pr%C3%A1ctico_Algoritmos(V2)_Luis_Sandoval.ipynb\" target=\"_parent\"><img src=\"https://colab.research.google.com/assets/colab-badge.svg\" alt=\"Open In Colab\"/></a>"
      ]
    },
    {
      "cell_type": "markdown",
      "source": [],
      "metadata": {
        "id": "O3knFfwkb1Rd"
      }
    },
    {
      "cell_type": "markdown",
      "metadata": {
        "id": "hVbXYX-RfPWh"
      },
      "source": [
        "# Algoritmos de optimización - Trabajo Práctico<br>\n",
        "Nombre y Apellidos: Luis Alexander Sandoval Chuica  <br>\n",
        "Url: https://github.com/lasch1987/03MAIR-Algoritmos-de-Optimizacion---2023/blob/main/Trabajo_Pr%C3%A1ctico_Algoritmos(V2).ipynb<br>\n",
        "Google Colab: https://colab.research.google.com/drive/1BKZIiFqCmCgreUv6FauPxW82eJ3J1dn-?usp=sharing <br>\n",
        "Problema:\n",
        ">1. Sesiones de doblaje <br>\n",
        ">2. Organizar los horarios de partidos de La Liga<br>\n",
        ">3. Configuración de Tribunales\n",
        "\n",
        "Descripción del problema:(copiar enunciado)\n",
        "\n",
        "Problema 1. Organizar sesiones de doblaje(I)\n",
        "• Se precisa coordinar el doblaje de una película. Los actores del doblaje deben coincidir en las tomas en las que sus personajes aparecen juntos en las diferentes tomas. Los actores de doblaje cobran todos la misma cantidad por cada día que deben desplazarse hasta el estudio de grabación independientemente del número de tomas que se graben. No es posible grabar más de 6 tomas por día. El objetivo es planificar las sesiones por día de manera que el gasto por los servicios de los actores de doblaje sea el menor posible. Los datos son:\n",
        "Número de actores: 10\n",
        "Número de tomas : 30\n",
        "Actores/Tomas : https://bit.ly/36D8IuK\n",
        "- 1 indica que el actor participa en la toma - 0 en caso contrario\n",
        "\n",
        "\n",
        "\n",
        "\n",
        "\n",
        "\n",
        "                                        "
      ]
    },
    {
      "cell_type": "markdown",
      "source": [
        "#Modelo\n",
        "- ¿Como represento el espacio de soluciones?\n",
        "- ¿Cual es la función objetivo?\n",
        "- ¿Como implemento las restricciones?"
      ],
      "metadata": {
        "id": "Sbo9IqQtpaHZ"
      }
    },
    {
      "cell_type": "markdown",
      "source": [
        "- ¿Como represento el espacio de soluciones? <br>\n",
        "  > El Espacio de Soluciones se representa a travez de una lista de listas,\n",
        "  > en las que se obtendran los dias que se usaran para distribuir las 30\n",
        "  > tomas, de tal manera que se tenga un gasto de contrato para los actores\n",
        "  > de doblaje , el menor posible. de esta manera tendremos:\n",
        "\n",
        "\n",
        "     Día 1: Tomas 1, 2, 3   Actores 1, 2, 3\n",
        "     Día 2: Tomas 4, 5, 6   Actores 4, 5, 6\n",
        "     Día 3: Tomas 7, 8, 9   Actores 7, 8, 9\n",
        "     ...\n",
        "     Costo total en actores: 30\n",
        "- > por ejemplo el Día 1 se grabarán las tomas 1,2 y 3 en el cual participaran los actores 1,2 y 3 <br>\n",
        "  > Es decir el espacio de soluciones se representa mediante la asignación de tomas a días. Cada solución es una lista de días, donde cada día contiene una lista de índices de tomas que se asignan a ese día.\n",
        "  > Adicionalmente hay una lista de actores que participarán cada día y el costo en término de actores.\n",
        "\n",
        "\n",
        "\n",
        "\n",
        "\n",
        "\n",
        "\n",
        "\n",
        "\n",
        "\n"
      ],
      "metadata": {
        "id": "67p_vszBposu"
      }
    },
    {
      "cell_type": "markdown",
      "source": [
        "- ¿Cual es la función objetivo?<br>\n",
        "  > La función objetivo en este problema es minimizar el costo total de los servicios de los actores de doblaje. <br>\n",
        "  > En el caso del problema de doblaje, la función objetivo se puede definir como el número total de actores que participan en la grabación de las tomas. El objetivo es minimizar este número para obtener una solución de bajo costo.\n",
        "\n"
      ],
      "metadata": {
        "id": "_zTh3g6Jws0T"
      }
    },
    {
      "cell_type": "markdown",
      "source": [
        "- ¿Como implemento las restricciones?\n",
        "  > Las restricciones del problema se basan en la condicion de que no pueden grabar mas de 6 tomas por día , y estas se implementan principalmente en la generación de soluciones y en la búsqueda local. Al generar soluciones aleatorias, se asegura de que no se asignen más de 6 tomas a un día. Además, en la búsqueda local, se evita asignar más de 6tomas a un día al intentar mover tomas de un día a otro.\n",
        "\n",
        "  >"
      ],
      "metadata": {
        "id": "OuMvWoH5BNhP"
      }
    },
    {
      "cell_type": "markdown",
      "source": [],
      "metadata": {
        "id": "LrebSaAyJDe_"
      }
    },
    {
      "cell_type": "code",
      "metadata": {
        "id": "AiskKkzZfy4e"
      },
      "source": [
        "#Respuesta\n",
        "Día 1: Tomas 1, 2, 3   Actores 1, 2, 3\n",
        "Día 2: Tomas 4, 5, 6   Actores 4, 5, 6\n",
        "Día 3: Tomas 7, 8, 9   Actores 7, 8, 9\n",
        "...\n",
        "Costo total en actores: 30"
      ],
      "execution_count": null,
      "outputs": []
    },
    {
      "cell_type": "markdown",
      "source": [
        "#Análisis\n",
        "- ¿Que complejidad tiene el problema?. Orden de complejidad y Contabilizar el espacio de soluciones <br>\n",
        "\n",
        "  > Aquí tenemos el pseudocodigo de nuestro algoritmo GRASP elegido para este problema:\n",
        "\n",
        "\n",
        "\n",
        "\n",
        "```\n",
        "**Algoritmo GRASP para el problema de doblaje**\n",
        "\n",
        "**Entrada:**\n",
        "* NUMERO_ACTORES: Número total de actores.\n",
        "* NUMERO_TOMAS: Número total de tomas.\n",
        "* ACTORES_TOMAS: Matriz de NUMERO_TOMAS x NUMERO_ACTORES que indica si un actor participa en una toma.\n",
        "* MAX_TOMAS_POR_DIA: Número máximo de tomas por día.\n",
        "\n",
        "**Salida:**\n",
        "* mejor_solucion: La mejor solución encontrada.\n",
        "\n",
        "**Función evaluar_solucion(solucion):**\n",
        "    Calcula el costo total de la solución (actores por día).\n",
        "\n",
        "**Función generar_solucion_inicial():**\n",
        "    Crea una solución aleatoria con las restricciones del problema.\n",
        "\n",
        "**Función busqueda_local(solucion):**\n",
        "    Mejora la solución actual mediante búsqueda local.\n",
        "    Intenta mover tomas de un día a otro para reducir el costo.\n",
        "\n",
        "**Función grasp(max_iter):**\n",
        "    Repite el proceso:\n",
        "        * Genera una solución inicial aleatoria.\n",
        "        * Mejora la solución mediante búsqueda local.\n",
        "        * Guarda la mejor solución encontrada.\n",
        "    Devuelve la mejor solución.\n",
        "\n",
        "**Función imprimir_solucion(solucion):**\n",
        "    Muestra la solución por día, las tomas y los actores involucrados.\n",
        "    Calcula y muestra el costo total en actores.\n",
        "\n",
        "**Inicio:**\n",
        "    mejor_solucion = grasp(1000)\n",
        "    imprimir_solucion(mejor_solucion)\n",
        "```\n",
        "\n",
        "\n",
        "<table border=\"1\">\n",
        "  <tr>\n",
        "    <th>Función</th>\n",
        "    <th>Complejidad</th>\n",
        "  </tr>\n",
        "  <tr>\n",
        "    <td>evaluar_solucion(solucion)</td>\n",
        "    <td>O(n^2)</td>\n",
        "  </tr>\n",
        "  <tr>\n",
        "    <td>generar_solucion_inicial()</td>\n",
        "    <td>O(n)</td>\n",
        "  </tr>\n",
        "  <tr>\n",
        "    <td>busqueda_local(solucion)</td>\n",
        "    <td>O(n^3)</td>\n",
        "  </tr>\n",
        "  <tr>\n",
        "    <td>grasp(max_iter)</td>\n",
        "    <td>O(max_iter * n^3)</td>\n",
        "  </tr>\n",
        "  <tr>\n",
        "    <td>imprimir_solucion(solucion)</td>\n",
        "    <td>O(n^2)</td>\n",
        "  </tr>\n",
        "  <tr>\n",
        "    <td>Complejidad total</td>\n",
        "    <td>O(max_iter * n^3 + n^2)</td>\n",
        "  </tr>\n",
        "</table>\n"
      ],
      "metadata": {
        "id": "HZz52wOppp-U"
      }
    },
    {
      "cell_type": "code",
      "source": [
        "#Respuesta\n"
      ],
      "metadata": {
        "id": "CZ-5BmpspttV"
      },
      "execution_count": null,
      "outputs": []
    },
    {
      "cell_type": "markdown",
      "source": [
        "#Diseño\n",
        "- ¿Que técnica utilizo? ¿Por qué?\n",
        "> La técnica utilizada es GRASP (Greedy Randomized Adaptive Search Procedure). GRASP combina la exploración del espacio de soluciones con una estrategia voraz y una búsqueda local para encontrar soluciones de alta calidad. Se elige GRASP porque es efectivo para problemas de optimización combinatoria como el de coordinar el doblaje de una película, donde se necesita una solución aproximadamente óptima en un tiempo razonable. La naturaleza adaptativa de GRASP permite ajustarse a las restricciones y características específicas del problema."
      ],
      "metadata": {
        "id": "ixEJUwH_pv7M"
      }
    },
    {
      "cell_type": "markdown",
      "source": [
        "> La lógica del algoritmo a implementar para este problema es el siguiente: <br>\n",
        "\n",
        "\n",
        "*   Inicialización de los datos del problema: Se ingresan los datos del problema, como el número de actores, el número de tomas, y la matriz que indica qué actores participan en cada toma.\n",
        "*   Generación de la solución inicial: Se crea una solución inicial aleatoria distribuyendo las tomas en los días de forma aleatoria, cumpliendo con la condición de no ser máximo 6 por día.\n",
        "\n",
        "*   Búsqueda local: Se mejora la solución inicial aplicando iterativamente una búsqueda local que intenta intercambiar tomas entre días para reducir el número total de actores involucrados.\n",
        "*   Ejecución de GRASP: Se realiza un número determinado de iteraciones del algoritmo GRASP. se genera una nueva solucion inicial en cada iteración se mejora mediante la búsqueda local. Se mantiene la mejor solución encontrada durante todas las iteraciones.\n",
        "*   Impresión de la solución: se muestra la mejor solución encontrada. Se imprime la distribución de las tomas en los días y los actores asociados a cada toma.\n",
        "\n",
        "\n"
      ],
      "metadata": {
        "id": "xA_cQic2aDQA"
      }
    },
    {
      "cell_type": "code",
      "source": [
        "import random\n",
        "\n",
        "# Datos del problema\n",
        "NUMERO_ACTORES = 10\n",
        "NUMERO_TOMAS = 30\n",
        "ACTORES_TOMAS = [\n",
        "    [1, 1, 1, 1, 1, 0, 0, 0, 0, 0],\n",
        "    [0, 0, 1, 1, 1, 0, 0, 0, 0, 0],\n",
        "    [0, 1, 0, 0, 1, 0, 1, 0, 0, 0],\n",
        "    [1, 1, 0, 0, 0, 0, 1, 1, 0, 0],\n",
        "    [0, 1, 0, 1, 0, 0, 0, 1, 0, 0],\n",
        "    [1, 1, 0, 1, 1, 0, 0, 0, 0, 0],\n",
        "    [1, 1, 0, 1, 1, 0, 0, 0, 0, 0],\n",
        "    [1, 1, 0, 0, 0, 1, 0, 0, 0, 0],\n",
        "    [1, 1, 0, 1, 0, 0, 0, 0, 0, 0],\n",
        "    [1, 1, 0, 0, 0, 1, 0, 0, 1, 0],\n",
        "    [1, 1, 1, 0, 1, 0, 0, 1, 0, 0],\n",
        "    [1, 1, 1, 1, 0, 1, 0, 0, 0, 0],\n",
        "    [1, 0, 0, 1, 1, 0, 0, 0, 0, 0],\n",
        "    [1, 0, 1, 0, 0, 1, 0, 0, 0, 0],\n",
        "    [1, 1, 0, 0, 0, 0, 1, 0, 0, 0],\n",
        "    [0, 0, 0, 1, 0, 0, 0, 0, 0, 1],\n",
        "    [1, 0, 1, 0, 0, 0, 0, 0, 0, 0],\n",
        "    [0, 0, 1, 0, 0, 1, 0, 0, 0, 0],\n",
        "    [1, 0, 1, 0, 0, 0, 0, 0, 0, 0],\n",
        "    [1, 0, 1, 1, 1, 0, 0, 0, 0, 0],\n",
        "    [0, 0, 0, 0, 0, 1, 0, 1, 0, 0],\n",
        "    [1, 1, 1, 1, 0, 0, 0, 0, 0, 0],\n",
        "    [1, 0, 1, 0, 0, 0, 0, 0, 0, 0],\n",
        "    [0, 0, 1, 0, 0, 1, 0, 0, 0, 0],\n",
        "    [1, 1, 0, 1, 0, 0, 0, 0, 0, 1],\n",
        "    [1, 0, 1, 0, 1, 0, 0, 0, 1, 0],\n",
        "    [0, 0, 0, 1, 1, 0, 0, 0, 0, 0],\n",
        "    [1, 0, 0, 1, 0, 0, 0, 0, 0, 0],\n",
        "    [1, 0, 0, 0, 1, 1, 0, 0, 0, 0],\n",
        "    [1, 0, 0, 1, 0, 0, 0, 0, 0, 0]]\n",
        "\n",
        "\n",
        "MAX_TOMAS_POR_DIA = 6\n",
        "\n",
        "# Función para evaluar la calidad de una solución\n",
        "def evaluar_solucion(solucion):\n",
        "    costo_total = 0\n",
        "    for dia in solucion:\n",
        "        actores_dia = set()\n",
        "        for toma_idx in dia:\n",
        "            for actor_idx, presencia in enumerate(ACTORES_TOMAS[toma_idx - 1]):\n",
        "                if presencia == 1:\n",
        "                    actores_dia.add(actor_idx + 1)\n",
        "        costo_total += len(actores_dia)\n",
        "    return costo_total\n",
        "\n",
        "# Función para generar una solución inicial\n",
        "def generar_solucion_inicial():\n",
        "    solucion = [[] for _ in range(NUMERO_TOMAS)]\n",
        "    tomas_disponibles = list(range(1, NUMERO_TOMAS + 1))\n",
        "    random.shuffle(tomas_disponibles)\n",
        "    for toma_idx in tomas_disponibles:\n",
        "        mejor_dia = min(range(len(solucion)), key=lambda d: len(solucion[d]))\n",
        "        if len(solucion[mejor_dia]) < MAX_TOMAS_POR_DIA:\n",
        "            solucion[mejor_dia].append(toma_idx)\n",
        "    return solucion\n",
        "\n",
        "# Función para mejorar una solución mediante búsqueda local\n",
        "def busqueda_local(solucion):\n",
        "    mejor_solucion = solucion[:]\n",
        "    mejor_costo = evaluar_solucion(mejor_solucion)\n",
        "\n",
        "    # Búsqueda local: Intenta mover tomas de un día a otro para mejorar la solución\n",
        "    for i in range(len(solucion)):\n",
        "        for j in range(len(solucion)):\n",
        "            if i != j:\n",
        "                for toma_idx in solucion[i]:\n",
        "                    if len(solucion[j]) < MAX_TOMAS_POR_DIA:\n",
        "                        solucion_temp = solucion[:]\n",
        "                        solucion_temp[i].remove(toma_idx)\n",
        "                        solucion_temp[j].append(toma_idx)\n",
        "                        costo_temp = evaluar_solucion(solucion_temp)\n",
        "                        if costo_temp < mejor_costo:\n",
        "                            mejor_solucion = solucion_temp[:]\n",
        "                            mejor_costo = costo_temp\n",
        "\n",
        "    return mejor_solucion\n",
        "\n",
        "# Función para ejecutar GRASP\n",
        "def grasp(max_iter):\n",
        "    mejor_solucion = []\n",
        "    mejor_costo = float('inf')\n",
        "\n",
        "    for _ in range(max_iter):\n",
        "        solucion_inicial = generar_solucion_inicial()\n",
        "        solucion = busqueda_local(solucion_inicial)\n",
        "        costo_solucion = evaluar_solucion(solucion)\n",
        "        if costo_solucion < mejor_costo:\n",
        "            mejor_solucion = solucion[:]\n",
        "            mejor_costo = costo_solucion\n",
        "\n",
        "    return mejor_solucion\n",
        "\n",
        "def imprimir_solucion(solucion):\n",
        "    costo_total = 0\n",
        "    for i, dia in enumerate(solucion):\n",
        "        if dia:\n",
        "            tomas = ', '.join(map(str, dia))\n",
        "            actores = set()\n",
        "            for toma_idx in dia:\n",
        "                for actor_idx, presencia in enumerate(ACTORES_TOMAS[toma_idx - 1]):\n",
        "                    if presencia == 1:\n",
        "                        actores.add(actor_idx + 1)\n",
        "            actores_str = ', '.join(map(str, actores))\n",
        "            costo_total += len(actores)\n",
        "            print(f\"Día {i+1}:  Tomas {tomas}   Actores {actores_str}\")\n",
        "    print(f\"Costo total en actores: {costo_total}\")\n",
        "\n",
        "# Ejecutar GRASP\n",
        "mejor_solucion = grasp(1000)\n",
        "imprimir_solucion(mejor_solucion)\n"
      ],
      "metadata": {
        "colab": {
          "base_uri": "https://localhost:8080/"
        },
        "id": "kwo_b0zi9dNT",
        "outputId": "e3ad899e-da70-47c7-e55a-2e0cfaeb1bf7"
      },
      "execution_count": null,
      "outputs": [
        {
          "output_type": "stream",
          "name": "stdout",
          "text": [
            "Día 1:  Tomas 2, 14, 8, 22, 27, 29   Actores 1, 2, 3, 4, 5, 6\n",
            "Día 2:  Tomas 21, 10, 25, 9, 16, 30   Actores 1, 2, 4, 6, 8, 9, 10\n",
            "Día 3:  Tomas 5, 7, 13, 11, 28, 20   Actores 1, 2, 3, 4, 5, 8\n",
            "Día 4:  Tomas 6, 18, 12, 1, 19, 24   Actores 1, 2, 3, 4, 5, 6\n",
            "Día 5:  Tomas 4, 17, 23, 15, 26, 3   Actores 1, 2, 3, 5, 7, 8, 9\n",
            "Costo total en actores: 32\n"
          ]
        }
      ]
    },
    {
      "cell_type": "markdown",
      "source": [
        "- La interpretación de estos resultados nos llevan a entender que las 30 tomas estarán distribuidas en 5 dias con seis tomas por día, en los cuales has sido puestas para minimizar costos de doblaje"
      ],
      "metadata": {
        "id": "xMT7WA_oXWTg"
      }
    }
  ]
}